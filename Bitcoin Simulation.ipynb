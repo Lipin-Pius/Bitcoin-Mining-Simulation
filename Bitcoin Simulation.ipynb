{
 "cells": [
  {
   "cell_type": "code",
   "execution_count": 1,
   "metadata": {},
   "outputs": [],
   "source": [
    "from bitcoin import *\n",
    "import pickle\n",
    "from pprint import pprint"
   ]
  },
  {
   "cell_type": "markdown",
   "metadata": {},
   "source": [
    "## Block containing Transactions"
   ]
  },
  {
   "cell_type": "code",
   "execution_count": 1,
   "metadata": {},
   "outputs": [],
   "source": [
    "block = {\n",
    "    \"Transactions\": [\n",
    "        {\n",
    "            \"From\" : 'A',\n",
    "            \"To\" : 'B',\n",
    "            \"Amount\" : 50\n",
    "        },\n",
    "        {\n",
    "            \"From\" : 'B',\n",
    "            \"To\" : 'C',\n",
    "            \"Amount\" : 40\n",
    "        },\n",
    "        {\n",
    "            \"From\" : 'C',\n",
    "            \"To\" : 'D',\n",
    "            \"Amount\" : 10\n",
    "        }\n",
    "    ]\n",
    "}"
   ]
  },
  {
   "cell_type": "markdown",
   "metadata": {},
   "source": [
    "## Signing and Verification of Block"
   ]
  },
  {
   "cell_type": "code",
   "execution_count": 3,
   "metadata": {},
   "outputs": [
    {
     "name": "stdout",
     "output_type": "stream",
     "text": [
      "True\n"
     ]
    }
   ],
   "source": [
    "# defining some private and public keys\n",
    "# For signing and authentication\n",
    "priv = random_key();\n",
    "pub = privtopub(priv);\n",
    "\n",
    "# Sign the block\n",
    "\n",
    "sign = ecdsa_sign(pickle.dumps(block), priv);\n",
    "\n",
    "\n",
    "# Verfying the block\n",
    "\n",
    "print(ecdsa_verify(pickle.dumps(block), sign, pub))"
   ]
  },
  {
   "cell_type": "markdown",
   "metadata": {},
   "source": [
    "## Adding Additional fields to block"
   ]
  },
  {
   "cell_type": "code",
   "execution_count": 4,
   "metadata": {},
   "outputs": [],
   "source": [
    "#Adding Signature to block\n",
    "block[\"sign\"] = sign;\n",
    "#Adding nonce\n",
    "block[\"nonce\"] = 0;\n",
    "#Adding prev_block address\n",
    "block[\"prev_hash\"] = sha256(random_key())"
   ]
  },
  {
   "cell_type": "markdown",
   "metadata": {},
   "source": [
    "## Defining a difficulty string"
   ]
  },
  {
   "cell_type": "code",
   "execution_count": 5,
   "metadata": {},
   "outputs": [],
   "source": [
    "difficulty = 3;\n",
    "difficulty_string = ''.join(['0' for x in range(difficulty)])"
   ]
  },
  {
   "cell_type": "markdown",
   "metadata": {},
   "source": [
    "## Mining"
   ]
  },
  {
   "cell_type": "code",
   "execution_count": 11,
   "metadata": {},
   "outputs": [
    {
     "name": "stdout",
     "output_type": "stream",
     "text": [
      "0 e000acb0caaad33f4e80fe3b40ffe4bfb117c998ee702b949a9c83a2c241fa65\n",
      "1 c227df4dcf4d91ae40beb2fc1ac5c7d45c1a9c2b485af2bc6e266d57d7f7d251\n",
      "2 ba671e3b9437a68ee428cb6eacfaae2b59eb962f381bdcadacec43b61e91c3b4\n",
      "3 293887788cf0a9c18613a7678bb084c74140f72a0751b3161d38257831e32e04\n",
      "4 41cfda7199c93c4f930c618e647aebaff1ca1066f87873a56843785d811e18f7\n",
      "5 27c4531f9aefe17f80204576ebdc7d9892c0d376dee0fcf5f85d16f11d4a4e7a\n",
      "6 4ee207d3de8b96fe99b35c2af1523e575a946dbfb709c36aa520eced79af66af\n",
      "7 470b23ae8e14f33413b050950ff3c3fd543e955a69b48db975a617ca9b6d0452\n",
      "8 2e5de4cb37d73d38cef10a57c8a2ff6e0f2ce56eab793b352b8f42f0efb833bd\n",
      "9 ca6d9ed23037970e91e84eadb8a3186408159b4047a2d8529f43ece25bb7ffdd\n",
      "10 5ceaca04ffe9e822f069bca53c599f1acba3bb3ff6c355e9bf02be839d047f31\n",
      "11 70686502515c600344ab8f9de7cd371d02dfd47540dca0a04c27f449af80a334\n",
      "12 a53b0751977423a273c106837961ad379473bf49667cf5517c0798ac8689c164\n",
      "13 73a4f0e0ab4da90a1ce8da2b1a48df1c84027e27b002260dca247b3af83f96b6\n",
      "14 1f63530e59cf98c6f31710ee677a71759bcac6f6f80e50cc7d1e2ccd662d58b6\n",
      "15 ccc8c8730dc4b8186a87d7a5e6e12d188c87a88aef99d90e25e747109daabfd8\n",
      "16 a1d47dbb1094d7a46192736cada7b525b2269055b09167816e3ed1d08c9146d3\n",
      "17 64d5a99c1c6e0033ef46f92e11108ebcb2cf40c5c7787887ac527eaf24a97205\n",
      "18 deb20a25e94131712a0c035a6a540c3fcb62bd369ec14e3ff28f75eb99cd8e83\n",
      "19 07673cd9b6c7c79037b8f9bd2135e2123c446745f0364df46932a72d6d08b56c\n",
      "20 33bbb94789ad90cf3c6aefb5e6f0476096eb4cfcd39b8d9897fbe9ac2d511b54\n",
      "21 5d1b2affc175c6d8e803d9dac50458361820441ef2f9de6eaab188ed908169c3\n",
      "22 07cf21cbe535d87cdd49d42e305487d4b2ead25015294475ba8ebffaff04f313\n",
      "23 9931d498aae44a95f88bd8d4869391c32d0febc3908f1fab336a9295a3eaf1b2\n",
      "24 f89479034a4c55d48b812ec5214ba3e22f3918505af5838415514cc2779dc42e\n",
      "25 f2fc56c60b78f528c6068136c5d5b9045c690f7835d5d08fbb7a644c28a0d72f\n",
      "26 6baa00635ec74c62266dd989e484e163133bae5725acfeff4de7cf6a4d54dd52\n",
      "27 b58b7d1e558c616b269de394eb396440a568cfb095d1f05d33e6fff61d1a9220\n",
      "28 405d902163bc522db10a46303a7ac283e5b51ea2d3335fe5baca40b1482bf299\n",
      "29 1946ee81009d7506ce78e9181b3032371c476e6b98609d32d3148eb6777801b8\n",
      "30 5fb1eb44e9cf40af2373a4ce950220c2613796ba236cdc8f1f1881707dd1190f\n",
      "31 b23231f65082a53dd699c9c0df9ff235f1549a49899d317225fcf4b8553bd858\n",
      "32 de81e97022152104726a547d681a326b27e6d46c1183f3d9d62dbd82ae18613b\n",
      "33 668f11f62adc96e0ab773e513fa0131a40770cf3343ee1624d8a1fca4b6064bc\n",
      "34 abd0c2c9634e225a157b6a085a9074564e3b7e233f1a502c1f54bdab5bfb2727\n",
      "35 91962091bd95938c6fa2aea0c7eb2c3c32e0b2edd553c6d9479afb78e412677c\n",
      "36 6e943392a5375ad5e53177353103ffd47d9c0c738b9c15a067f316496f4ea241\n",
      "37 2a48ceac2565b91e926d8db367f7a17f05c04b1374aa7b52aceeabed0d98c15e\n",
      "38 71eeb0a6ba08f8acbb886163d6cd4ddd6309d189a2daa4695791bfb9cfcc2ffd\n",
      "39 cab4e17d239b0e7ccbeef33dd1f1001c0c95da0adafe824e6418aa341e2d9952\n",
      "40 6eb12da50ab91aa706d5afd2598ed87640c0cb88701eaacd692233c8c006eea4\n",
      "41 c4a8caa06e4a9dceb3ea7eec3964d3a523cc0721c582fc706a56072db83057de\n",
      "42 c59d0816576344067ed7936cc16532dc84d71ae85fa726471062679f16569c5f\n",
      "43 a1341e6dd5552d54ce03160d936bd986d728c07d48543a329505e85fe3c5558d\n",
      "44 5ec49982c25d88dfc2fa17bc435623aa2f58fb95800b57d72d9fd02c15210cc0\n",
      "45 fe6af6bed69e5e9aadbcc49b6244d1d9a5094aa1ad0984198549dcbec8304222\n",
      "46 59e99b8d1f29ebcfb861fe4cd3cd6a54c05a493d0ef83a56483bd91093fe7c9e\n",
      "47 8957d120e7d6a9871438847de1a82892ceafcde64098b2a0e708e1da66f18a09\n",
      "48 62707843f7b7ec26af92f8a681954bd68af7320ad12602b81fa239a2f3d9efd8\n",
      "49 efb05807b246a25df96b50f307599054c4eae3b074c6cf268e2cd53473e2e45e\n",
      "50 20515afe135ba7e790fb1f340e49ddd509ec97df1b537b09450a67d888d628ce\n",
      "51 582c28425afc5e13104fece7ecba6fa6ded0bde5a1c716ac501f808a92bc160d\n",
      "52 2a32991cea17eca567fec102d66d3ac6dc9de1f8bc8bcfe26cd06a546cafa188\n",
      "53 f3c339b8f565fe736ba60b7363e82947cb7d87e43c2e9543193b5f2870c9927d\n",
      "54 222423c246a6f739a5aff41f4b6f1a7e1a798185c6c2d6ee4696659ef57261cb\n",
      "55 301525d14fd851d756ed733ccda6073f0a3488057f4e4067d46d9b30c22bbb7f\n",
      "56 492f338b07ef4ce4249b9228c8baf1cc490926b6db0ab7f74d54e29e5721bb68\n",
      "57 d04935d14efa8a9b7ef8fa6041b8c718169b432d7bdb0736f0218b18a9cb0daf\n",
      "58 9bcd05d9c924951e50427adefb7b68d33547beec21cbb7c6c0b05bc0a0ac12a4\n",
      "59 30f3a6797d845ae6eeb73fdaa7a0c6014282286e7d0b5f7f425b88527e0f7001\n",
      "60 775e86772e9d2c3073db5ac657955f42ea84b06cae9d314c49c35298a34381b9\n",
      "61 04014aaf1a0b0684b688beef48994ef9fdfb4fc48d116e63a545181eeb190849\n",
      "62 2bdf769245f5e9f77fe0ce1cb1d4d9d0f8f9f92f67dbc5b42a3d60a32e974d67\n",
      "63 3419f78d896b02a19922435492c4077955bdabcffa10c43a2ae3ffeed9a9ff77\n",
      "64 c15a0f844d9608d0a0bc49dcc30e9342ff75c00031fabb54e7969c6d5ba95972\n",
      "65 45c6333c7ecb888c24b49b815f8d562263d352b1ae40c1376268abe7c9426152\n",
      "66 2119bfbb3e72a9de45616d5cfcc39cb8dda09572686a78204ad32219d02d374c\n",
      "67 d27723c252f93a509dc157097da547a0a4da782a1cad141a1c4c558938fa4377\n",
      "68 74a1bc23d403137b5443a47564fb99540418029fe01201e5fc29c5d4cc3af512\n",
      "69 a76bcca03888b3cdf94afba2e427720263bfcb8f5b314bfbcf530314f9a19e00\n",
      "70 8fb371e1f457dc3f4c677e80d9bd8caf11127d4655039cd8365dc9c4b4e2ccb3\n",
      "71 a8f7468d33561f1b4ff1c61bcabc492044563e71d7005ada6d824a7e90d24d40\n",
      "72 6f11d0f84241114414e4fe8aa1da24c6df9c6179ed1f6bfe68b5cc44d43ed314\n",
      "73 82f2f33fc71d8d73985e8be8124f5bef7e8298315dfa748834a5e48dd6dd7608\n",
      "74 327f0b77cb5274e974c3e2505fba471d36092cd4c0b1ed02c7bc71f472ec5601\n",
      "75 e65ea8fe6d215069426f0db1f3eeb4f084a9b950e4b7f444691ab532fcb3fc65\n",
      "76 78b9a7f0602f999823b4e046d54c8d6bb4f8c2c9cf3e012b607e5b08d70e2c3a\n",
      "77 16fb5a204cabbb23ba18206b2ebcbe4704cf3cdcec6d032e03cc35685d50b101\n",
      "78 8fc31831bdc610ffc86e3b151119254b56db7888cd8d40d6bf74085376c8ef30\n",
      "79 00013cf5f33a11d6a0f40c42c2a48e9d486bbe6cf358b4a8cecd39c0ac72cb2b\n"
     ]
    }
   ],
   "source": [
    "# Mining\n",
    "nonce=0\n",
    "block[\"nonce\"]=nonce\n",
    "h = sha256(pickle.dumps(block))\n",
    "print(block[\"nonce\"], h)\n",
    "while h[:difficulty] != difficulty_string:\n",
    "    nonce +=1\n",
    "    block[\"nonce\"]=nonce\n",
    "    h = sha256(pickle.dumps(block))\n",
    "    print(nonce, h)"
   ]
  },
  {
   "cell_type": "markdown",
   "metadata": {},
   "source": [
    "## Result"
   ]
  },
  {
   "cell_type": "code",
   "execution_count": 10,
   "metadata": {},
   "outputs": [
    {
     "name": "stdout",
     "output_type": "stream",
     "text": [
      "79 00013cf5f33a11d6a0f40c42c2a48e9d486bbe6cf358b4a8cecd39c0ac72cb2b\n"
     ]
    }
   ],
   "source": [
    "print(nonce, h)"
   ]
  }
 ],
 "metadata": {
  "kernelspec": {
   "display_name": "Python 3",
   "language": "python",
   "name": "python3"
  },
  "language_info": {
   "codemirror_mode": {
    "name": "ipython",
    "version": 3
   },
   "file_extension": ".py",
   "mimetype": "text/x-python",
   "name": "python",
   "nbconvert_exporter": "python",
   "pygments_lexer": "ipython3",
   "version": "3.6.3"
  }
 },
 "nbformat": 4,
 "nbformat_minor": 2
}
